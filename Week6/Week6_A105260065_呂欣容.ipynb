{
  "nbformat": 4,
  "nbformat_minor": 0,
  "metadata": {
    "colab": {
      "name": "Week6_A105260065_呂欣容.ipynb",
      "provenance": []
    },
    "kernelspec": {
      "name": "python3",
      "display_name": "Python 3"
    }
  },
  "cells": [
    {
      "cell_type": "markdown",
      "metadata": {
        "id": "faNHbArkQo_v",
        "colab_type": "text"
      },
      "source": [
        "隨堂練習：判斷身分證字號的尾數是否為奇數"
      ]
    },
    {
      "cell_type": "code",
      "metadata": {
        "id": "RC_iBJLOP6GA",
        "colab_type": "code",
        "colab": {
          "base_uri": "https://localhost:8080/",
          "height": 50
        },
        "outputId": "0904326e-b942-4aed-870e-d3be590bcf39"
      },
      "source": [
        "id_last_digit = input(\"請輸入您身分證字號的尾數：\")\n",
        "id_last_digit = int(id_last_digit)\n",
        "modulo = id_last_digit % 2\n",
        "ans = modulo == 1\n",
        "print(ans)"
      ],
      "execution_count": 5,
      "outputs": [
        {
          "output_type": "stream",
          "text": [
            "請輸入您身分證字號的尾數：1\n",
            "True\n"
          ],
          "name": "stdout"
        }
      ]
    }
  ]
}