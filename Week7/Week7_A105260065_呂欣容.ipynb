{
  "nbformat": 4,
  "nbformat_minor": 0,
  "metadata": {
    "colab": {
      "name": "Week7_A105260065_呂欣容.ipynb",
      "provenance": []
    },
    "kernelspec": {
      "name": "python3",
      "display_name": "Python 3"
    }
  },
  "cells": [
    {
      "cell_type": "markdown",
      "metadata": {
        "id": "BJEDwq109x8w",
        "colab_type": "text"
      },
      "source": [
        "隨堂練習：月薪超過 4 萬或存款超過 50 萬就發信用卡\n",
        "\n",
        "(1) 請輸入月薪：40001 ； 請輸入存款：499999\n",
        "\n",
        "發信用卡\n",
        "\n",
        "(2) 請輸入月薪：39999 ； 請輸入存款：500001\n",
        "\n",
        "發信用卡"
      ]
    },
    {
      "cell_type": "code",
      "metadata": {
        "id": "8WulaIad8R02",
        "colab_type": "code",
        "outputId": "0e292b90-bdec-46fe-a370-7af78084438c",
        "colab": {
          "base_uri": "https://localhost:8080/",
          "height": 68
        }
      },
      "source": [
        "monthly_income = input(\"請輸入月薪：\")\n",
        "saving_account = input(\"請輸入存款：\")\n",
        "monthly_income = int(monthly_income)\n",
        "saving_account = int(saving_account)\n",
        "\n",
        "# 條件判斷(begin)\n",
        "if monthly_income > 40000 or saving_account > 500000:\n",
        "    ans = \"發信用卡\"\n",
        "# 條件判斷(end)\n",
        "print(ans)"
      ],
      "execution_count": 0,
      "outputs": [
        {
          "output_type": "stream",
          "text": [
            "請輸入月薪：40001\n",
            "請輸入存款：499999\n",
            "發信用卡\n"
          ],
          "name": "stdout"
        }
      ]
    },
    {
      "cell_type": "code",
      "metadata": {
        "id": "3OtJjR9McVJx",
        "colab_type": "code",
        "colab": {
          "base_uri": "https://localhost:8080/",
          "height": 67
        },
        "outputId": "c30b2df3-19f7-4940-ac33-c2031e382854"
      },
      "source": [
        "monthly_income = input(\"請輸入月薪：\")\n",
        "saving_account = input(\"請輸入存款：\")\n",
        "monthly_income = int(monthly_income)\n",
        "saving_account = int(saving_account)\n",
        "\n",
        "# 條件判斷(begin)\n",
        "if monthly_income > 40000 or saving_account > 500000:\n",
        "    ans = \"發信用卡\"\n",
        "# 條件判斷(end)\n",
        "print(ans)"
      ],
      "execution_count": 8,
      "outputs": [
        {
          "output_type": "stream",
          "text": [
            "請輸入月薪：39999\n",
            "請輸入存款：500001\n",
            "發信用卡\n"
          ],
          "name": "stdout"
        }
      ]
    },
    {
      "cell_type": "markdown",
      "metadata": {
        "id": "9fHhVYwaDf9r",
        "colab_type": "text"
      },
      "source": [
        "隨堂練習：判斷奇數偶數\n",
        "\n",
        "(1) 請輸入一個正整數：5566\n",
        "\n",
        "5566 是偶數\n",
        "\n",
        "(2) 請輸入一個正整數：87\n",
        "\n",
        "87 是奇數\n"
      ]
    },
    {
      "cell_type": "code",
      "metadata": {
        "id": "l6hSF_L0BXHe",
        "colab_type": "code",
        "outputId": "0251b7a3-8d5a-4d50-fb2b-14497c8b53b0",
        "colab": {
          "base_uri": "https://localhost:8080/",
          "height": 50
        }
      },
      "source": [
        "user_int = input(\"請輸入一個正整數：\")\n",
        "user_int = int(user_int)\n",
        "\n",
        "if user_int % 2 == 0:\n",
        "   ans = \"偶數\"\n",
        "else:\n",
        "   ans = \"奇數\"\n",
        "print(ans)"
      ],
      "execution_count": 1,
      "outputs": [
        {
          "output_type": "stream",
          "text": [
            "請輸入一個正整數：5566\n",
            "偶數\n"
          ],
          "name": "stdout"
        }
      ]
    },
    {
      "cell_type": "code",
      "metadata": {
        "id": "lm5Ps_J3cg9l",
        "colab_type": "code",
        "colab": {
          "base_uri": "https://localhost:8080/",
          "height": 50
        },
        "outputId": "174ba3ce-e562-4ea1-a744-5da04ddd092c"
      },
      "source": [
        "user_int = input(\"請輸入一個正整數：\")\n",
        "user_int = int(user_int)\n",
        "\n",
        "if user_int % 2 == 0:\n",
        "   ans = \"偶數\"\n",
        "else:\n",
        "   ans = \"奇數\"\n",
        "print(ans)"
      ],
      "execution_count": 10,
      "outputs": [
        {
          "output_type": "stream",
          "text": [
            "請輸入一個正整數：87\n",
            "奇數\n"
          ],
          "name": "stdout"
        }
      ]
    },
    {
      "cell_type": "markdown",
      "metadata": {
        "id": "KN4-Jsl5JEqO",
        "colab_type": "text"
      },
      "source": [
        "隨堂練習：依身分證字號尾數決定星期幾可以購買口罩\n",
        "\n",
        "奇數：星期一三五日領\n",
        "\n",
        "偶數：星期二四六日領"
      ]
    },
    {
      "cell_type": "code",
      "metadata": {
        "id": "g2AJ6IRGEjX8",
        "colab_type": "code",
        "outputId": "f0ac6bcc-009f-4d29-b98e-61044e863b8c",
        "colab": {
          "base_uri": "https://localhost:8080/",
          "height": 50
        }
      },
      "source": [
        "id_last_digit = input(\"請輸入您身分證字號的尾數：\")\n",
        "id_last_digit = int(id_last_digit)\n",
        "\n",
        "if id_last_digit % 2 == 0:\n",
        "    ans = \"星期二四六日領\"\n",
        "else:\n",
        "    ans = \"星期一三五日領\"\n",
        "print(ans)"
      ],
      "execution_count": 2,
      "outputs": [
        {
          "output_type": "stream",
          "text": [
            "請輸入您身分證字號的尾數：5\n",
            "星期一三五日領\n"
          ],
          "name": "stdout"
        }
      ]
    },
    {
      "cell_type": "code",
      "metadata": {
        "id": "0mF16raAc4RS",
        "colab_type": "code",
        "colab": {
          "base_uri": "https://localhost:8080/",
          "height": 50
        },
        "outputId": "affdc89a-231c-4ab2-8a18-0d291fb37812"
      },
      "source": [
        "id_last_digit = input(\"請輸入您身分證字號的尾數：\")\n",
        "id_last_digit = int(id_last_digit)\n",
        "\n",
        "if id_last_digit % 2 == 0:\n",
        "    ans = \"星期二四六日領\"\n",
        "else:\n",
        "    ans = \"星期一三五日領\"\n",
        "print(ans)"
      ],
      "execution_count": 11,
      "outputs": [
        {
          "output_type": "stream",
          "text": [
            "請輸入您身分證字號的尾數：6\n",
            "星期二四六日領\n"
          ],
          "name": "stdout"
        }
      ]
    },
    {
      "cell_type": "markdown",
      "metadata": {
        "id": "_7t0c1j_P7F9",
        "colab_type": "text"
      },
      "source": [
        "隨堂練習：判斷 BMI 的類別標籤\n",
        "\n",
        "(1) 請輸入身高（公分）：200 ； 請輸入體重（公斤）：80\n",
        "\n",
        "身高 200.0 公分、體重 80.0 公斤，是 Normal weight\n",
        "\n",
        "\n",
        "(2) 請輸入身高（公分）：170 ； 請輸入體重（公斤）：100\n",
        "\n",
        "身高 170.0 公分、體重 100.0 公斤，是 Obese"
      ]
    },
    {
      "cell_type": "code",
      "metadata": {
        "id": "Er2UTs-PLuHf",
        "colab_type": "code",
        "outputId": "42401dd0-5487-4827-dcbe-4335caaa6e88",
        "colab": {
          "base_uri": "https://localhost:8080/",
          "height": 67
        }
      },
      "source": [
        "input_height = float(input(\"請輸入身高（公分）：\"))\n",
        "input_weight = float(input(\"請輸入體重（公斤）：\"))\n",
        "bmi = input_weight / (input_height*0.01)**2 # 體重(公斤) / 身高2(公尺2)\n",
        "\n",
        "if bmi > 30:\n",
        "    label = \"Obese\" \n",
        "elif bmi > 25:\n",
        "    label = \"Overweight\" \n",
        "elif bmi > 18.5:\n",
        "    label = \"Normal weight\"\n",
        "else:\n",
        "    label = \"Underweight\"\n",
        "print(\"身高 {} 公分、體重 {} 公斤，是 {}\".format(input_height, input_weight, label))"
      ],
      "execution_count": 6,
      "outputs": [
        {
          "output_type": "stream",
          "text": [
            "請輸入身高（公分）：200\n",
            "請輸入體重（公斤）：80\n",
            "身高 200.0 公分、體重 80.0 公斤，是 Normal weight\n"
          ],
          "name": "stdout"
        }
      ]
    },
    {
      "cell_type": "code",
      "metadata": {
        "id": "ChzsNN6lSrjY",
        "colab_type": "code",
        "colab": {
          "base_uri": "https://localhost:8080/",
          "height": 67
        },
        "outputId": "93384626-4706-485c-a7d7-12f3f5ec62f0"
      },
      "source": [
        "input_height = float(input(\"請輸入身高（公分）：\"))\n",
        "input_weight = float(input(\"請輸入體重（公斤）：\"))\n",
        "bmi = input_weight / (input_height*0.01)**2 # 體重(公斤) / 身高2(公尺2)\n",
        "\n",
        "if bmi > 30:\n",
        "    label = \"Obese\" \n",
        "elif bmi > 25:\n",
        "    label = \"Overweight\" \n",
        "elif bmi > 18.5:\n",
        "    label = \"Normal weight\"\n",
        "else:\n",
        "    label = \"Underweight\"\n",
        "print(\"身高 {} 公分、體重 {} 公斤，是 {}\".format(input_height, input_weight, label))"
      ],
      "execution_count": 7,
      "outputs": [
        {
          "output_type": "stream",
          "text": [
            "請輸入身高（公分）：170\n",
            "請輸入體重（公斤）：100\n",
            "身高 170.0 公分、體重 100.0 公斤，是 Obese\n"
          ],
          "name": "stdout"
        }
      ]
    }
  ]
}