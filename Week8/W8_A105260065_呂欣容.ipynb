{
  "nbformat": 4,
  "nbformat_minor": 0,
  "metadata": {
    "colab": {
      "name": "W8_A105260065_呂欣容.ipynb",
      "provenance": []
    },
    "kernelspec": {
      "name": "python3",
      "display_name": "Python 3"
    }
  },
  "cells": [
    {
      "cell_type": "markdown",
      "metadata": {
        "id": "PMHJVsuGMBx6",
        "colab_type": "text"
      },
      "source": [
        "Fizz-Buzz\n",
        "\n",
        "以 input() 函數請使用者輸入一個正整數\n",
        "\n",
        "如果是 3 的倍數印出 \"Fizz\"\n",
        "\n",
        "如果是 5 的倍數印出 \"Buzz\"\n",
        "\n",
        "如果是 15 的倍數印出 \"Fizz Buzz\"\n",
        "\n",
        "其他情況印出該正整數即可"
      ]
    },
    {
      "cell_type": "code",
      "metadata": {
        "id": "sqXIyGET6XpF",
        "colab_type": "code",
        "colab": {
          "base_uri": "https://localhost:8080/",
          "height": 51
        },
        "outputId": "26746c86-b7d2-42e8-81f1-20b8a8f9c664"
      },
      "source": [
        "user_int = int(input(\"請輸入一個正整數:\"))\n",
        "if user_int % 15 == 0:\n",
        "    print(\"Fizz Buzz\")\n",
        "elif user_int % 5 == 0:\n",
        "    print(\"Buzz\")\n",
        "elif user_int % 3 == 0:\n",
        "    print(\"Fizz\")\n",
        "else:\n",
        "    print(user_int)"
      ],
      "execution_count": 13,
      "outputs": [
        {
          "output_type": "stream",
          "text": [
            "請輸入一個正整數:16\n",
            "16\n"
          ],
          "name": "stdout"
        }
      ]
    },
    {
      "cell_type": "markdown",
      "metadata": {
        "id": "3Ka7P5zYVKDg",
        "colab_type": "text"
      },
      "source": [
        "隨堂練習：印出介於 x 到 y 之間的奇數（包含 x 與 y 假如它們是奇數）"
      ]
    },
    {
      "cell_type": "code",
      "metadata": {
        "id": "KBOrUGUcVlQu",
        "colab_type": "code",
        "colab": {
          "base_uri": "https://localhost:8080/",
          "height": 102
        },
        "outputId": "8e53737c-335a-483c-b625-c12b89769992"
      },
      "source": [
        "x = int(input(\"請輸入起始的正整數:\"))\n",
        "y = int(input(\"請輸入終止的正整數\"))\n",
        "i = x\n",
        "while i <= y:\n",
        "    if i % 2 == 1:\n",
        "        print(i)\n",
        "    i += 1\n"
      ],
      "execution_count": 27,
      "outputs": [
        {
          "output_type": "stream",
          "text": [
            "請輸入起始的正整數:5\n",
            "請輸入終止的正整數10\n",
            "5\n",
            "7\n",
            "9\n"
          ],
          "name": "stdout"
        }
      ]
    },
    {
      "cell_type": "code",
      "metadata": {
        "id": "14YtwPNAWhuw",
        "colab_type": "code",
        "colab": {}
      },
      "source": [
        ""
      ],
      "execution_count": 0,
      "outputs": []
    }
  ]
}