{
  "nbformat": 4,
  "nbformat_minor": 0,
  "metadata": {
    "colab": {
      "name": "W4_A105260065_呂欣容.ipynb",
      "provenance": []
    },
    "kernelspec": {
      "name": "python3",
      "display_name": "Python 3"
    }
  },
  "cells": [
    {
      "cell_type": "markdown",
      "metadata": {
        "id": "K2dKkeQm-ELX",
        "colab_type": "text"
      },
      "source": [
        "隨堂練習27：將目前的攝氏氣溫轉換為華氏氣溫\n",
        "Fahrenheit = Celsius × 9/5 + 32\n"
      ]
    },
    {
      "cell_type": "code",
      "metadata": {
        "id": "p-Lo3JEfrSHF",
        "colab_type": "code",
        "outputId": "2d6bb39b-1ce0-40a4-b91d-91a9c9bff04d",
        "colab": {
          "base_uri": "https://localhost:8080/",
          "height": 33
        }
      },
      "source": [
        "current_celsius = 25\n",
        "current_fahrenheit = current_celsius * 9 / 5 + 32\n",
        "print(current_fahrenheit)"
      ],
      "execution_count": 0,
      "outputs": [
        {
          "output_type": "stream",
          "text": [
            "77.0\n"
          ],
          "name": "stdout"
        }
      ]
    },
    {
      "cell_type": "markdown",
      "metadata": {
        "id": "GA7hRdAbBINn",
        "colab_type": "text"
      },
      "source": [
        "隨堂練習28：將目前的華氏氣溫轉換為攝氏氣溫\n",
        "Celsius = (Fahrenheit − 32) × 5/9"
      ]
    },
    {
      "cell_type": "code",
      "metadata": {
        "id": "YrBO5OQ-sK4O",
        "colab_type": "code",
        "outputId": "f82e0346-f513-47a1-f6de-176a091c9cce",
        "colab": {
          "base_uri": "https://localhost:8080/",
          "height": 33
        }
      },
      "source": [
        "current_tempc = (current_trmpf - 32) * 5 / 9\n",
        "print(current_tempc)"
      ],
      "execution_count": 0,
      "outputs": [
        {
          "output_type": "stream",
          "text": [
            "25.0\n"
          ],
          "name": "stdout"
        }
      ]
    },
    {
      "cell_type": "markdown",
      "metadata": {
        "id": "UhacIym-BZro",
        "colab_type": "text"
      },
      "source": [
        "隨堂練習29：計算俠客歐尼爾巔峰時期的 BMI 身體質量指數\n",
        "NBA 史上最偉大的中鋒之一「柴油引擎」俠客歐尼爾（Shaquille O’Neal）巔峰時期的身\n",
        "高為 216 公分、體重為 147 公斤。\n",
        "BMI = weightkg/height²m"
      ]
    },
    {
      "cell_type": "code",
      "metadata": {
        "id": "CVzlol9PwZ2v",
        "colab_type": "code",
        "outputId": "f2828719-4906-4fbb-c375-f2f9fbdd9dc8",
        "colab": {
          "base_uri": "https://localhost:8080/",
          "height": 34
        }
      },
      "source": [
        "shaq_weight = 147\n",
        "shaq_height = 216\n",
        "shaq_bmi = shaq_weight / (shaq_height/100)**2\n",
        "print(shaq_bmi)"
      ],
      "execution_count": 0,
      "outputs": [
        {
          "output_type": "stream",
          "text": [
            "31.507201646090532\n"
          ],
          "name": "stdout"
        }
      ]
    },
    {
      "cell_type": "markdown",
      "metadata": {
        "id": "BWP1Wj7hCc-H",
        "colab_type": "text"
      },
      "source": [
        "隨堂練習42：What did Ross say?\n",
        "Let's put aside the fact that you \"accidentally\" pick up my grandmother's ring."
      ]
    },
    {
      "cell_type": "code",
      "metadata": {
        "id": "DQNtp3ze3pVw",
        "colab_type": "code",
        "outputId": "63d0802e-2b8e-4b41-e8bf-7c475447f294",
        "colab": {
          "base_uri": "https://localhost:8080/",
          "height": 34
        }
      },
      "source": [
        "ross_said = \"\"\"Let's put aside the fact that you \"accidentally\" pick up my grandmother's ring\"\"\"\n",
        "print(ross_said)"
      ],
      "execution_count": 0,
      "outputs": [
        {
          "output_type": "stream",
          "text": [
            "Let's put aside the fact that you \"accidentally\" pick up my grandmother's ring\n"
          ],
          "name": "stdout"
        }
      ]
    },
    {
      "cell_type": "code",
      "metadata": {
        "id": "FRtIdGok50Cl",
        "colab_type": "code",
        "outputId": "b3e7f44d-a506-49e2-f360-f57f78cca62c",
        "colab": {
          "base_uri": "https://localhost:8080/",
          "height": 34
        }
      },
      "source": [
        "ross_said = \"Let's put aside the fact that you \\\"accidentally\\\" pick up my grandmother's ring\"\n",
        "print(ross_said)"
      ],
      "execution_count": 0,
      "outputs": [
        {
          "output_type": "stream",
          "text": [
            "Let's put aside the fact that you \"accidentally\" pick up my grandmother's ring\n"
          ],
          "name": "stdout"
        }
      ]
    },
    {
      "cell_type": "code",
      "metadata": {
        "id": "i4v73bxm6pLH",
        "colab_type": "code",
        "outputId": "f5855bc0-768c-4fc6-f9bb-f2a848bea716",
        "colab": {
          "base_uri": "https://localhost:8080/",
          "height": 34
        }
      },
      "source": [
        "ross_said = 'Let\\'s put aside the fact that you \"accidentally\" pick up my grandmother\\'s ring'\n",
        "print(ross_said)"
      ],
      "execution_count": 0,
      "outputs": [
        {
          "output_type": "stream",
          "text": [
            "Let's put aside the fact that you \"accidentally\" pick up my grandmother's ring\n"
          ],
          "name": "stdout"
        }
      ]
    },
    {
      "cell_type": "markdown",
      "metadata": {
        "id": "YwLIEH4-ClZ4",
        "colab_type": "text"
      },
      "source": [
        "隨堂練習50：讓使用者輸入城市名稱與天氣，並印出「我在OOO，天氣OOO」。"
      ]
    },
    {
      "cell_type": "code",
      "metadata": {
        "id": "9I7Hb4FX_Sb_",
        "colab_type": "code",
        "outputId": "2cbf56ce-d0f7-4be1-e032-e9cb184bb40a",
        "colab": {
          "base_uri": "https://localhost:8080/",
          "height": 51
        }
      },
      "source": [
        "city = input(\"請輸入您在的城市名稱\")\n",
        "weather = input(\"請輸入目前的天氣\")"
      ],
      "execution_count": 0,
      "outputs": [
        {
          "output_type": "stream",
          "text": [
            "請輸入您在的城市名稱台北\n",
            "請輸入目前的天氣晴\n"
          ],
          "name": "stdout"
        }
      ]
    },
    {
      "cell_type": "code",
      "metadata": {
        "id": "lc8uerD0BuQr",
        "colab_type": "code",
        "outputId": "c8c571bd-7d2c-4201-b408-16a5fc9971a6",
        "colab": {
          "base_uri": "https://localhost:8080/",
          "height": 34
        }
      },
      "source": [
        "print(\"我在{}，天氣{}\".format(city, weather))"
      ],
      "execution_count": 0,
      "outputs": [
        {
          "output_type": "stream",
          "text": [
            "我在台北，天氣晴\n"
          ],
          "name": "stdout"
        }
      ]
    },
    {
      "cell_type": "markdown",
      "metadata": {
        "id": "F6tSmXh0DBI_",
        "colab_type": "text"
      },
      "source": [
        "隨堂練習68 : 球員 BMI 與過重判斷\n",
        "以 input() 函數請使用者輸入球員姓名、身高與體重，計算球員的 BMI 並且印出超過 30 代表過重，請印出判斷結果。"
      ]
    },
    {
      "cell_type": "code",
      "metadata": {
        "id": "Vg7Sor9xDYn1",
        "colab_type": "code",
        "outputId": "bba5e524-2d16-4644-e85b-abd312182098",
        "colab": {
          "base_uri": "https://localhost:8080/",
          "height": 67
        }
      },
      "source": [
        "player_name = input(\"請輸入球員姓名:\")\n",
        "player_height = input(\"請輸入球員身高(cm):\")\n",
        "player_weight = input(\"請輸入球員體重(kg):\")"
      ],
      "execution_count": 0,
      "outputs": [
        {
          "output_type": "stream",
          "text": [
            "請輸入球員姓名:俠客歐尼爾\n",
            "請輸入球員身高(cm):216\n",
            "請輸入球員體重(kg):147\n"
          ],
          "name": "stdout"
        }
      ]
    },
    {
      "cell_type": "code",
      "metadata": {
        "id": "f_FwaR8Z98HS",
        "colab_type": "code",
        "outputId": "88552099-1a7a-4830-fef9-2e017773d0b3",
        "colab": {
          "base_uri": "https://localhost:8080/",
          "height": 33
        }
      },
      "source": [
        "player_height = int(player_height)\n",
        "player_weight = int(player_weight)\n",
        "player_bmi = format(player_weight / (player_height/100)**2)\n",
        "player_bmi = float(player_bmi)\n",
        "print(player_bmi)"
      ],
      "execution_count": 0,
      "outputs": [
        {
          "output_type": "stream",
          "text": [
            "31.507201646090532\n"
          ],
          "name": "stdout"
        }
      ]
    },
    {
      "cell_type": "code",
      "metadata": {
        "id": "DHhIbWLDD45N",
        "colab_type": "code",
        "outputId": "9b4540ac-a854-43e6-dbd4-219da2af38e9",
        "colab": {
          "base_uri": "https://localhost:8080/",
          "height": 50
        }
      },
      "source": [
        "print(\"{}的身體質量指數為：{:.2f}\".format(player_name, player_bmi))\n",
        "print(\"{}是否過重：{}\".format(player_name, player_bmi > 30))"
      ],
      "execution_count": 0,
      "outputs": [
        {
          "output_type": "stream",
          "text": [
            "俠客歐尼爾的身體質量指數為：31.51\n",
            "俠客歐尼爾是否過重：True\n"
          ],
          "name": "stdout"
        }
      ]
    },
    {
      "cell_type": "code",
      "metadata": {
        "id": "gNIaJJ129vIl",
        "colab_type": "code",
        "colab": {}
      },
      "source": [
        ""
      ],
      "execution_count": 0,
      "outputs": []
    }
  ]
}