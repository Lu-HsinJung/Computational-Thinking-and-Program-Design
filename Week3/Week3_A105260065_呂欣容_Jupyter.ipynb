{
 "cells": [
  {
   "cell_type": "markdown",
   "metadata": {},
   "source": [
    "隨堂練習：將電影(https://www.imdb.com/title/tt4154796/) 頁面中的三個資訊儲存為物件並且印出來，片長（以分鐘為單位)、評分、片名，並使用 type() 函數將這三個物件的類別印出來"
   ]
  },
  {
   "cell_type": "code",
   "execution_count": 1,
   "metadata": {},
   "outputs": [
    {
     "name": "stdout",
     "output_type": "stream",
     "text": [
      "Avengers: Endgame\n",
      "181\n",
      "8.4\n",
      "<class 'str'>\n",
      "<class 'int'>\n",
      "<class 'float'>\n"
     ]
    }
   ],
   "source": [
    "movie_title = \"Avengers: Endgame\"\n",
    "movie_length = 181\n",
    "movie_rating = 8.4\n",
    "\n",
    "print(movie_title)\n",
    "print(movie_length)\n",
    "print(movie_rating)\n",
    "\n",
    "print(type(movie_title))\n",
    "print(type(movie_length))\n",
    "print(type(movie_rating))"
   ]
  },
  {
   "cell_type": "code",
   "execution_count": null,
   "metadata": {},
   "outputs": [],
   "source": []
  }
 ],
 "metadata": {
  "kernelspec": {
   "display_name": "Python 3",
   "language": "python",
   "name": "python3"
  },
  "language_info": {
   "codemirror_mode": {
    "name": "ipython",
    "version": 3
   },
   "file_extension": ".py",
   "mimetype": "text/x-python",
   "name": "python",
   "nbconvert_exporter": "python",
   "pygments_lexer": "ipython3",
   "version": "3.7.6"
  }
 },
 "nbformat": 4,
 "nbformat_minor": 4
}
