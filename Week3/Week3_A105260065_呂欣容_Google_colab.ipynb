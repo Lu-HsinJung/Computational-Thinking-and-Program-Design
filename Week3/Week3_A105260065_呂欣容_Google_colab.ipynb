{
  "nbformat": 4,
  "nbformat_minor": 0,
  "metadata": {
    "colab": {
      "name": "Week3_A105260065_呂欣容_Google colab.ipynb",
      "provenance": []
    },
    "kernelspec": {
      "name": "python3",
      "display_name": "Python 3"
    }
  },
  "cells": [
    {
      "cell_type": "markdown",
      "metadata": {
        "id": "w56v_QSh-Wll",
        "colab_type": "text"
      },
      "source": [
        "隨堂練習：將電影(https://www.imdb.com/title/tt4154796/) 頁面中的三個資訊儲存為物件並且印出來，片長（以分鐘為單位)、評分、片名，並使用 type() 函數將這三個物件的類別印出來"
      ]
    },
    {
      "cell_type": "code",
      "metadata": {
        "id": "Gd1qAilC8Zvz",
        "colab_type": "code",
        "colab": {
          "base_uri": "https://localhost:8080/",
          "height": 117
        },
        "outputId": "3900af2b-951a-4079-8637-a5b69fe55988"
      },
      "source": [
        "movie_title = \"Avengers: Endgame\"\n",
        "movie_length = 181\n",
        "movie_rating = 8.4\n",
        "\n",
        "print(movie_title)\n",
        "print(movie_length)\n",
        "print(movie_rating)\n",
        "\n",
        "print(type(movie_title))\n",
        "print(type(movie_length))\n",
        "print(type(movie_rating))"
      ],
      "execution_count": 2,
      "outputs": [
        {
          "output_type": "stream",
          "text": [
            "Avengers: Endgame\n",
            "181\n",
            "8.4\n",
            "<class 'str'>\n",
            "<class 'int'>\n",
            "<class 'float'>\n"
          ],
          "name": "stdout"
        }
      ]
    }
  ]
}