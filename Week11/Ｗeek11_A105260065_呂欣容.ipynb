{
  "nbformat": 4,
  "nbformat_minor": 0,
  "metadata": {
    "colab": {
      "name": "Ｗeek11_A105260065_呂欣容.ipynb",
      "provenance": []
    },
    "kernelspec": {
      "name": "python3",
      "display_name": "Python 3"
    }
  },
  "cells": [
    {
      "cell_type": "markdown",
      "metadata": {
        "id": "AOkSNyVYxsEk",
        "colab_type": "text"
      },
      "source": [
        "使用tuple"
      ]
    },
    {
      "cell_type": "code",
      "metadata": {
        "id": "aMsJfA8-xhq7",
        "colab_type": "code",
        "outputId": "95e57454-f6ca-462b-f27f-00be13282d86",
        "colab": {
          "base_uri": "https://localhost:8080/",
          "height": 34
        }
      },
      "source": [
        "primes = (2, 3, 5, 7, 11)\n",
        "print(type(primes))"
      ],
      "execution_count": 0,
      "outputs": [
        {
          "output_type": "stream",
          "text": [
            "<class 'tuple'>\n"
          ],
          "name": "stdout"
        }
      ]
    },
    {
      "cell_type": "markdown",
      "metadata": {
        "id": "O6q2Zw5fxxn4",
        "colab_type": "text"
      },
      "source": [
        "常用的 tuple 操作\n",
        "\n",
        "1.len() 觀察長度\n",
        "\n",
        "2.索引（Indexing）\n",
        "\n",
        "3.切割（Slicing）"
      ]
    },
    {
      "cell_type": "markdown",
      "metadata": {
        "id": "TsFtS67uyQ3D",
        "colab_type": "text"
      },
      "source": [
        "1.len() 觀察長度"
      ]
    },
    {
      "cell_type": "code",
      "metadata": {
        "id": "S3MdsQQPyFiO",
        "colab_type": "code",
        "outputId": "3d9b1a05-d3d6-4835-8eae-ec113ee317bc",
        "colab": {
          "base_uri": "https://localhost:8080/",
          "height": 34
        }
      },
      "source": [
        "print(len(primes))"
      ],
      "execution_count": 0,
      "outputs": [
        {
          "output_type": "stream",
          "text": [
            "5\n"
          ],
          "name": "stdout"
        }
      ]
    },
    {
      "cell_type": "markdown",
      "metadata": {
        "id": "QbsfjnMBuj2z",
        "colab_type": "text"
      },
      "source": [
        "2.索引（indexing）"
      ]
    },
    {
      "cell_type": "code",
      "metadata": {
        "id": "GzxmKxrVuEhT",
        "colab_type": "code",
        "outputId": "080701b6-b9fe-4e1c-c10f-8f68f8bc1193",
        "colab": {
          "base_uri": "https://localhost:8080/",
          "height": 84
        }
      },
      "source": [
        "print(primes[0])\n",
        "print(primes[1])\n",
        "print(primes[-1])\n",
        "print(primes[-2])"
      ],
      "execution_count": 0,
      "outputs": [
        {
          "output_type": "stream",
          "text": [
            "2\n",
            "3\n",
            "11\n",
            "7\n"
          ],
          "name": "stdout"
        }
      ]
    },
    {
      "cell_type": "markdown",
      "metadata": {
        "id": "dhbrN2rxvFN8",
        "colab_type": "text"
      },
      "source": [
        "3.切割（slicing）\n",
        "\n",
        "start 起始索引（包含）\n",
        "\n",
        "stop 結束索引（不包含）\n",
        "\n",
        "step 間距"
      ]
    },
    {
      "cell_type": "code",
      "metadata": {
        "id": "LW4o0nZhvAiX",
        "colab_type": "code",
        "outputId": "cd5b4f2d-be11-4299-b694-ee41068b1839",
        "colab": {
          "base_uri": "https://localhost:8080/",
          "height": 34
        }
      },
      "source": [
        "print(primes[::2])"
      ],
      "execution_count": 0,
      "outputs": [
        {
          "output_type": "stream",
          "text": [
            "[2, 5, 11]\n"
          ],
          "name": "stdout"
        }
      ]
    },
    {
      "cell_type": "markdown",
      "metadata": {
        "id": "wpwQZv7UxOmJ",
        "colab_type": "text"
      },
      "source": [
        "獲取 dict 的標籤與資料\n",
        "\n",
        ".keys()：取得標籤\n",
        "\n",
        ".values()：取得資料\n",
        "\n",
        ".items()：同時取得標籤和資料"
      ]
    },
    {
      "cell_type": "code",
      "metadata": {
        "id": "etgKnYNf8NOw",
        "colab_type": "code",
        "colab": {}
      },
      "source": [
        "the_avengers = {\n",
        "    \"Iron Man\": \"Tony Stark\",\n",
        "    \"Captain America\": \"Steve Rogers\",\n",
        "    \"Hulk\": \"Bruce Banner\",\n",
        "    \"Thor\": \"Thor\",\n",
        "    \"Black Widow\": \"Natasha Romanoff\",\n",
        "    \"Hawkeye\": \"Clint Barton\"\n",
        "}"
      ],
      "execution_count": 0,
      "outputs": []
    },
    {
      "cell_type": "code",
      "metadata": {
        "id": "OXIS2pFAADoI",
        "colab_type": "code",
        "outputId": "229730fd-e534-4a84-f36e-74d717a43b6c",
        "colab": {
          "base_uri": "https://localhost:8080/",
          "height": 34
        }
      },
      "source": [
        "print(type(the_avengers))"
      ],
      "execution_count": 0,
      "outputs": [
        {
          "output_type": "stream",
          "text": [
            "<class 'dict'>\n"
          ],
          "name": "stdout"
        }
      ]
    },
    {
      "cell_type": "code",
      "metadata": {
        "id": "jUehbA1gAS11",
        "colab_type": "code",
        "outputId": "ff3b28c4-fa17-4957-f4af-ce156663879e",
        "colab": {
          "base_uri": "https://localhost:8080/",
          "height": 34
        }
      },
      "source": [
        "print(the_avengers.keys()) #取得標籤"
      ],
      "execution_count": 0,
      "outputs": [
        {
          "output_type": "stream",
          "text": [
            "dict_keys(['Iron Man', 'Captain America', 'Hulk', 'Thor', 'Black Widow', 'Hawkeye'])\n"
          ],
          "name": "stdout"
        }
      ]
    },
    {
      "cell_type": "code",
      "metadata": {
        "id": "EAKPsu7EAiy9",
        "colab_type": "code",
        "outputId": "d632a874-35e8-4036-a11b-76ef83b0c042",
        "colab": {
          "base_uri": "https://localhost:8080/",
          "height": 34
        }
      },
      "source": [
        "print(the_avengers.values()) #取得資料"
      ],
      "execution_count": 0,
      "outputs": [
        {
          "output_type": "stream",
          "text": [
            "dict_values(['Tony Stark', 'Steve Rogers', 'Bruce Banner', 'Thor', 'Natasha Romanoff', 'Clint Barton'])\n"
          ],
          "name": "stdout"
        }
      ]
    },
    {
      "cell_type": "code",
      "metadata": {
        "id": "xubHmHsdAsWt",
        "colab_type": "code",
        "outputId": "4f1d4d38-5762-45f6-f1e3-712271df9e3e",
        "colab": {
          "base_uri": "https://localhost:8080/",
          "height": 54
        }
      },
      "source": [
        "print(the_avengers.items()) #同時取得標籤和資料"
      ],
      "execution_count": 0,
      "outputs": [
        {
          "output_type": "stream",
          "text": [
            "dict_items([('Iron Man', 'Tony Stark'), ('Captain America', 'Steve Rogers'), ('Hulk', 'Bruce Banner'), ('Thor', 'Thor'), ('Black Widow', 'Natasha Romanoff'), ('Hawkeye', 'Clint Barton')])\n"
          ],
          "name": "stdout"
        }
      ]
    },
    {
      "cell_type": "code",
      "metadata": {
        "id": "QnwqWWynBG82",
        "colab_type": "code",
        "outputId": "545c9d1c-41b1-4357-f617-5b38759b610c",
        "colab": {
          "base_uri": "https://localhost:8080/",
          "height": 50
        }
      },
      "source": [
        "living_area = input(\"請輸入您的居住縣市:\")\n",
        "living_cost = None\n",
        "if living_area == '臺北市':\n",
        "    living_cost = 17005\n",
        "elif living_area == '新北市':\n",
        "    living_cost = 15500\n",
        "elif living_area == '桃園市':\n",
        "    living_cost = 15281\n",
        "elif living_area == '臺中市':\n",
        "    living_cost = 14596\n",
        "elif living_area == '臺南市':\n",
        "    living_cost = 12388\n",
        "elif living_area == '高雄市':\n",
        "    living_cost = 13099\n",
        "elif living_area == '非六都之縣市':\n",
        "    living_cost = 12388\n",
        "elif living_area == '金門縣連江縣':\n",
        "    living_cost = 11648\n",
        "\n",
        "if living_cost is None:\n",
        "    print(\"請重新輸入居住縣市\")\n",
        "else:\n",
        "    print(\"{}的每人每月最低生活費為{:,}\".format(living_area, living_cost))"
      ],
      "execution_count": 0,
      "outputs": [
        {
          "output_type": "stream",
          "text": [
            "請輸入您的居住縣市:臺南市\n",
            "臺南市的每人每月最低生活費為12,388\n"
          ],
          "name": "stdout"
        }
      ]
    },
    {
      "cell_type": "code",
      "metadata": {
        "id": "upAhU0syEGwx",
        "colab_type": "code",
        "outputId": "5391b4e3-5b8d-457c-eca8-c2e9ebf18370",
        "colab": {
          "base_uri": "https://localhost:8080/",
          "height": 50
        }
      },
      "source": [
        "living_cost_dict = {\n",
        "    '臺北市': 17005,\n",
        "    '新北市': 15500,\n",
        "    '桃園市': 15281,\n",
        "    '臺中市': 14596,\n",
        "    '臺南市': 12388,\n",
        "    '高雄市': 13099,\n",
        "    '非六都之縣市': 12388,\n",
        "    '金門縣連江縣': 11648\n",
        "}\n",
        "living_area = input(\"請輸入您的居住縣市:\")\n",
        "try:\n",
        "    living_cost = living_cost_dict[living_area]\n",
        "    print(\"{}的每人每月最低生活費為{:,}\".format(living_area, living_cost))\n",
        "except KeyError:\n",
        "    print(\"請重新輸入居住縣市\")"
      ],
      "execution_count": 0,
      "outputs": [
        {
          "output_type": "stream",
          "text": [
            "請輸入您的居住縣市:花蓮縣\n",
            "請重新輸入居住縣市\n"
          ],
          "name": "stdout"
        }
      ]
    },
    {
      "cell_type": "markdown",
      "metadata": {
        "id": "TCI51sizwgbe",
        "colab_type": "text"
      },
      "source": [
        "set 能運行集合運算\n",
        "\n",
        "| 聯集\n",
        "\n",
        "& 交集\n",
        "\n",
        "-差異\n",
        "\n",
        "^ 對稱差異"
      ]
    },
    {
      "cell_type": "code",
      "metadata": {
        "id": "icM7V1hOWB6g",
        "colab_type": "code",
        "outputId": "52f23d97-832c-40d6-ab6c-424ce5a86f91",
        "colab": {
          "base_uri": "https://localhost:8080/",
          "height": 50
        }
      },
      "source": [
        "primes = {2, 3, 5, 7, 11, 13}\n",
        "odds = {1, 3, 5, 7, 9, 11, 13}\n",
        "print(type(primes))\n",
        "print(type(odds))"
      ],
      "execution_count": 0,
      "outputs": [
        {
          "output_type": "stream",
          "text": [
            "<class 'set'>\n",
            "<class 'set'>\n"
          ],
          "name": "stdout"
        }
      ]
    },
    {
      "cell_type": "code",
      "metadata": {
        "id": "4W-TJCIyYUPR",
        "colab_type": "code",
        "outputId": "db28ebbe-aea3-4350-b6dc-d90e5c5a5cc1",
        "colab": {
          "base_uri": "https://localhost:8080/",
          "height": 34
        }
      },
      "source": [
        "# 交集\n",
        "primes & odds"
      ],
      "execution_count": 0,
      "outputs": [
        {
          "output_type": "execute_result",
          "data": {
            "text/plain": [
              "{3, 5, 7, 11, 13}"
            ]
          },
          "metadata": {
            "tags": []
          },
          "execution_count": 22
        }
      ]
    },
    {
      "cell_type": "code",
      "metadata": {
        "id": "nMQNQmZlWVIv",
        "colab_type": "code",
        "outputId": "3376de48-ea2c-4b2e-9bf4-f32ad9ecf0f7",
        "colab": {
          "base_uri": "https://localhost:8080/",
          "height": 34
        }
      },
      "source": [
        "# 聯集\n",
        "primes | odds"
      ],
      "execution_count": 0,
      "outputs": [
        {
          "output_type": "execute_result",
          "data": {
            "text/plain": [
              "{1, 2, 3, 5, 7, 9, 11, 13}"
            ]
          },
          "metadata": {
            "tags": []
          },
          "execution_count": 21
        }
      ]
    },
    {
      "cell_type": "code",
      "metadata": {
        "id": "Is9SjWskYbqR",
        "colab_type": "code",
        "outputId": "de720ae9-d388-4561-972f-5586739558b7",
        "colab": {
          "base_uri": "https://localhost:8080/",
          "height": 51
        }
      },
      "source": [
        "# 差異\n",
        "print(primes - odds)\n",
        "print(odds - primes)"
      ],
      "execution_count": 0,
      "outputs": [
        {
          "output_type": "stream",
          "text": [
            "{2}\n",
            "{1, 9}\n"
          ],
          "name": "stdout"
        }
      ]
    },
    {
      "cell_type": "code",
      "metadata": {
        "id": "TeZo7EfjYvCw",
        "colab_type": "code",
        "outputId": "091661e9-bcf5-4cc8-8414-07f77c1bb7e4",
        "colab": {
          "base_uri": "https://localhost:8080/",
          "height": 34
        }
      },
      "source": [
        "# 對稱差異\n",
        "primes ^ odds"
      ],
      "execution_count": 0,
      "outputs": [
        {
          "output_type": "execute_result",
          "data": {
            "text/plain": [
              "{1, 2, 9}"
            ]
          },
          "metadata": {
            "tags": []
          },
          "execution_count": 25
        }
      ]
    },
    {
      "cell_type": "markdown",
      "metadata": {
        "id": "YbAnhkvyz0eu",
        "colab_type": "text"
      },
      "source": [
        "使用iter\n"
      ]
    },
    {
      "cell_type": "code",
      "metadata": {
        "id": "FOkNW4NYzumx",
        "colab_type": "code",
        "outputId": "a7b7b752-67f4-4dc1-beb7-64dea0fac90f",
        "colab": {
          "base_uri": "https://localhost:8080/",
          "height": 34
        }
      },
      "source": [
        "primes"
      ],
      "execution_count": 0,
      "outputs": [
        {
          "output_type": "execute_result",
          "data": {
            "text/plain": [
              "(2, 3, 5, 7, 11)"
            ]
          },
          "metadata": {
            "tags": []
          },
          "execution_count": 13
        }
      ]
    },
    {
      "cell_type": "code",
      "metadata": {
        "id": "CvC-C1x0zxM7",
        "colab_type": "code",
        "outputId": "af261310-dae3-42b0-9010-5c5f45543433",
        "colab": {
          "base_uri": "https://localhost:8080/",
          "height": 34
        }
      },
      "source": [
        "I = iter(primes)\n",
        "next(I)"
      ],
      "execution_count": 0,
      "outputs": [
        {
          "output_type": "execute_result",
          "data": {
            "text/plain": [
              "2"
            ]
          },
          "metadata": {
            "tags": []
          },
          "execution_count": 14
        }
      ]
    },
    {
      "cell_type": "markdown",
      "metadata": {
        "id": "ietDKI8b0GXP",
        "colab_type": "text"
      },
      "source": [
        "使用range"
      ]
    },
    {
      "cell_type": "code",
      "metadata": {
        "id": "yMqxPUB2zz1l",
        "colab_type": "code",
        "outputId": "32c46345-bdf2-4413-b647-590857eff92f",
        "colab": {
          "base_uri": "https://localhost:8080/",
          "height": 1000
        }
      },
      "source": [
        "for i in range(1, 101, 1):\n",
        "    print(i)"
      ],
      "execution_count": 0,
      "outputs": [
        {
          "output_type": "stream",
          "text": [
            "1\n",
            "2\n",
            "3\n",
            "4\n",
            "5\n",
            "6\n",
            "7\n",
            "8\n",
            "9\n",
            "10\n",
            "11\n",
            "12\n",
            "13\n",
            "14\n",
            "15\n",
            "16\n",
            "17\n",
            "18\n",
            "19\n",
            "20\n",
            "21\n",
            "22\n",
            "23\n",
            "24\n",
            "25\n",
            "26\n",
            "27\n",
            "28\n",
            "29\n",
            "30\n",
            "31\n",
            "32\n",
            "33\n",
            "34\n",
            "35\n",
            "36\n",
            "37\n",
            "38\n",
            "39\n",
            "40\n",
            "41\n",
            "42\n",
            "43\n",
            "44\n",
            "45\n",
            "46\n",
            "47\n",
            "48\n",
            "49\n",
            "50\n",
            "51\n",
            "52\n",
            "53\n",
            "54\n",
            "55\n",
            "56\n",
            "57\n",
            "58\n",
            "59\n",
            "60\n",
            "61\n",
            "62\n",
            "63\n",
            "64\n",
            "65\n",
            "66\n",
            "67\n",
            "68\n",
            "69\n",
            "70\n",
            "71\n",
            "72\n",
            "73\n",
            "74\n",
            "75\n",
            "76\n",
            "77\n",
            "78\n",
            "79\n",
            "80\n",
            "81\n",
            "82\n",
            "83\n",
            "84\n",
            "85\n",
            "86\n",
            "87\n",
            "88\n",
            "89\n",
            "90\n",
            "91\n",
            "92\n",
            "93\n",
            "94\n",
            "95\n",
            "96\n",
            "97\n",
            "98\n",
            "99\n",
            "100\n"
          ],
          "name": "stdout"
        }
      ]
    },
    {
      "cell_type": "code",
      "metadata": {
        "id": "ob7ouHnH0HSa",
        "colab_type": "code",
        "colab": {}
      },
      "source": [
        ""
      ],
      "execution_count": 0,
      "outputs": []
    }
  ]
}