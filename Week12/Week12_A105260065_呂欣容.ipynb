{
  "nbformat": 4,
  "nbformat_minor": 0,
  "metadata": {
    "colab": {
      "name": "Week12_A105260065_呂欣容.ipynb",
      "provenance": []
    },
    "kernelspec": {
      "name": "python3",
      "display_name": "Python 3"
    }
  },
  "cells": [
    {
      "cell_type": "markdown",
      "metadata": {
        "id": "XayvX3ktE_F1",
        "colab_type": "text"
      },
      "source": [
        "隨堂練習:印出介於 x 到 y 之間的奇數（包含 x 與 y 假如它們是奇數）"
      ]
    },
    {
      "cell_type": "code",
      "metadata": {
        "id": "fHZFGibGAnXT",
        "colab_type": "code",
        "colab": {
          "base_uri": "https://localhost:8080/",
          "height": 68
        },
        "outputId": "c6216274-e8c1-4662-c27b-38dcb10697bc"
      },
      "source": [
        "x = int(input(\"請輸入起始的正整數：\"))\n",
        "y = int(input(\"請輸入終止的正整數：\"))\n",
        "odds = []\n",
        "for i in range(x, y + 1):\n",
        "    mod = i % 2\n",
        "    if mod == 1:\n",
        "        odds.append(i)\n",
        "print(odds)"
      ],
      "execution_count": 4,
      "outputs": [
        {
          "output_type": "stream",
          "text": [
            "請輸入起始的正整數：13\n",
            "請輸入終止的正整數：59\n",
            "[13, 15, 17, 19, 21, 23, 25, 27, 29, 31, 33, 35, 37, 39, 41, 43, 45, 47, 49, 51, 53, 55, 57, 59]\n"
          ],
          "name": "stdout"
        }
      ]
    },
    {
      "cell_type": "markdown",
      "metadata": {
        "id": "RKqrpbFhHFy1",
        "colab_type": "text"
      },
      "source": [
        "隨堂練習:承接上題，介於 x 到 y 之間的奇數有幾個（包含 x 與 y 假如它們是奇數）\n"
      ]
    },
    {
      "cell_type": "code",
      "metadata": {
        "id": "-Jo3RlAFG8y8",
        "colab_type": "code",
        "colab": {
          "base_uri": "https://localhost:8080/",
          "height": 34
        },
        "outputId": "e6db5137-ed9b-4487-e8bb-2533e781d343"
      },
      "source": [
        "print(len(odds)) # 記數"
      ],
      "execution_count": 8,
      "outputs": [
        {
          "output_type": "stream",
          "text": [
            "24\n"
          ],
          "name": "stdout"
        }
      ]
    },
    {
      "cell_type": "markdown",
      "metadata": {
        "id": "eKkWeEamV_yM",
        "colab_type": "text"
      },
      "source": [
        "隨堂練習:承接上題，介於 x 到 y 之間的奇數加總為何（包含 x 與 y 假如它們是奇數）"
      ]
    },
    {
      "cell_type": "code",
      "metadata": {
        "id": "TUmktWtTWNih",
        "colab_type": "code",
        "colab": {
          "base_uri": "https://localhost:8080/",
          "height": 34
        },
        "outputId": "51b3fd01-c346-4ee3-82ef-33563913d950"
      },
      "source": [
        "print(sum(odds)) # 加總"
      ],
      "execution_count": 9,
      "outputs": [
        {
          "output_type": "stream",
          "text": [
            "864\n"
          ],
          "name": "stdout"
        }
      ]
    },
    {
      "cell_type": "markdown",
      "metadata": {
        "id": "v5AgXW8dbJFf",
        "colab_type": "text"
      },
      "source": [
        "隨堂練習:將復仇者聯盟系列電影評等大於 8 分的挑選出來"
      ]
    },
    {
      "cell_type": "code",
      "metadata": {
        "id": "iR17x3ScbWj0",
        "colab_type": "code",
        "colab": {
          "base_uri": "https://localhost:8080/",
          "height": 34
        },
        "outputId": "a740d52a-aee4-477c-9862-ea15552d1618"
      },
      "source": [
        "avengers_ratings = [8.1, 7.3, 8.5, 8.8]\n",
        "recommendations = [i for i in avengers_ratings if i >= 8]\n",
        "print(recommendations)"
      ],
      "execution_count": 10,
      "outputs": [
        {
          "output_type": "stream",
          "text": [
            "[8.1, 8.5, 8.8]\n"
          ],
          "name": "stdout"
        }
      ]
    },
    {
      "cell_type": "markdown",
      "metadata": {
        "id": "hNx-ro-Mbnhj",
        "colab_type": "text"
      },
      "source": [
        "隨堂練習:標記復仇者聯盟的上映順序\n",
        "\n",
        "第 1 部上映的復仇者聯盟是：The Avengers\n",
        "\n",
        "第 2 部上映的復仇者聯盟是：Avengers: Age of Ultron\n",
        "\n",
        "第 3 部上映的復仇者聯盟是：Avengers: Infinity War\n",
        "\n",
        "第 4 部上映的復仇者聯盟是：Avengers: Endgame"
      ]
    },
    {
      "cell_type": "code",
      "metadata": {
        "id": "D4fnWx4zbW-a",
        "colab_type": "code",
        "colab": {
          "base_uri": "https://localhost:8080/",
          "height": 85
        },
        "outputId": "be672a1c-83a6-432b-976b-9e0f4ba54b79"
      },
      "source": [
        "avengers = [\"The Avengers\", \"Avengers: Age of Ultron\", \"Avengers: Infinity War\", \"Avengers: Endgame\"]\n",
        "for idx, movie in enumerate(avengers):\n",
        "    print(\"第{}部上映的復仇者聯盟電影:{}\".format(idx+1, movie))"
      ],
      "execution_count": 15,
      "outputs": [
        {
          "output_type": "stream",
          "text": [
            "第1部上映的復仇者聯盟電影:The Avengers\n",
            "第2部上映的復仇者聯盟電影:Avengers: Age of Ultron\n",
            "第3部上映的復仇者聯盟電影:Avengers: Infinity War\n",
            "第4部上映的復仇者聯盟電影:Avengers: Endgame\n"
          ],
          "name": "stdout"
        }
      ]
    },
    {
      "cell_type": "markdown",
      "metadata": {
        "id": "pxVJfvyleceN",
        "colab_type": "text"
      },
      "source": [
        "隨堂練習:標記復仇者聯盟的上映順序與年份\n",
        "第 1 部復仇者聯盟：The Avengers 上映年份為 2012\n",
        "\n",
        "第 2 部復仇者聯盟：Avengers: Age of Ultron 上映年份為 2015\n",
        "\n",
        "第 3 部復仇者聯盟：Avengers: Infinity War 上映年份為 2018\n",
        "\n",
        "第 4 部復仇者聯盟：Avengers: Endgame 上映年份為 2019"
      ]
    },
    {
      "cell_type": "code",
      "metadata": {
        "id": "eo_a2qKheh5D",
        "colab_type": "code",
        "colab": {
          "base_uri": "https://localhost:8080/",
          "height": 85
        },
        "outputId": "fd41670b-2b09-424c-e18c-db4391878027"
      },
      "source": [
        "years = [2012, 2015, 2018, 2019]\n",
        "for year, movie in zip(years, avengers):\n",
        "    print(\"{}上映的年份是{}\".format(movie, year))"
      ],
      "execution_count": 16,
      "outputs": [
        {
          "output_type": "stream",
          "text": [
            "The Avengers上映的年份是2012\n",
            "Avengers: Age of Ultron上映的年份是2015\n",
            "Avengers: Infinity War上映的年份是2018\n",
            "Avengers: Endgame上映的年份是2019\n"
          ],
          "name": "stdout"
        }
      ]
    },
    {
      "cell_type": "code",
      "metadata": {
        "id": "fNva81N7epwT",
        "colab_type": "code",
        "colab": {}
      },
      "source": [
        ""
      ],
      "execution_count": 0,
      "outputs": []
    }
  ]
}