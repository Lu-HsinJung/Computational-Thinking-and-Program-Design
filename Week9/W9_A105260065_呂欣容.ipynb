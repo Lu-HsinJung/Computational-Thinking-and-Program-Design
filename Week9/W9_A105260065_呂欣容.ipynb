{
  "nbformat": 4,
  "nbformat_minor": 0,
  "metadata": {
    "colab": {
      "name": "W9_A105260065_呂欣容.ipynb",
      "provenance": []
    },
    "kernelspec": {
      "name": "python3",
      "display_name": "Python 3"
    }
  },
  "cells": [
    {
      "cell_type": "markdown",
      "metadata": {
        "id": "DsN7A-yXEV1-",
        "colab_type": "text"
      },
      "source": [
        "隨堂練習：承接上題，介於 x 到 y 之間的奇數有幾個（包含 x 與 y 假如它們是奇數）"
      ]
    },
    {
      "cell_type": "code",
      "metadata": {
        "id": "XkAzqyaJD-8d",
        "colab_type": "code",
        "outputId": "6514d094-b3f7-49b4-afe3-4a3798b1fe73",
        "colab": {
          "base_uri": "https://localhost:8080/",
          "height": 68
        }
      },
      "source": [
        "x = int(input(\"請輸入起始的正整數：\"))\n",
        "y = int(input(\"請輸入終止的正整數：\"))\n",
        "odd_counter = 0 # 歸零\n",
        "i = x # start\n",
        "while i <= y: # stop\n",
        "    if i % 2 == 1: \n",
        "       odd_counter += 1 # 計數累計\n",
        "    i += 1 # step\n",
        "print(odd_counter)"
      ],
      "execution_count": 0,
      "outputs": [
        {
          "output_type": "stream",
          "text": [
            "請輸入起始的正整數：5\n",
            "請輸入終止的正整數：10\n",
            "3\n"
          ],
          "name": "stdout"
        }
      ]
    },
    {
      "cell_type": "markdown",
      "metadata": {
        "id": "fqnBUdTWHWyv",
        "colab_type": "text"
      },
      "source": [
        "隨堂練習：承接上題，介於 x 到 y 之間的奇數加總為何（包含 x 與 y 假如它們是奇數）"
      ]
    },
    {
      "cell_type": "code",
      "metadata": {
        "id": "iJohgoBjGQhM",
        "colab_type": "code",
        "outputId": "af7f7e73-8127-4e39-a01c-ca9e323c3d68",
        "colab": {
          "base_uri": "https://localhost:8080/",
          "height": 68
        }
      },
      "source": [
        "x = int(input(\"請輸入起始的正整數：\"))\n",
        "y = int(input(\"請輸入終止的正整數：\"))\n",
        "odd_summation = 0 # 歸零\n",
        "i = x # start\n",
        "while i <= y: # stop\n",
        "    if i % 2 == 1: \n",
        "       odd_summation = odd_summation + i # 數值累加\n",
        "    i += 1 # step\n",
        "print(odd_summation)"
      ],
      "execution_count": 0,
      "outputs": [
        {
          "output_type": "stream",
          "text": [
            "請輸入起始的正整數：5\n",
            "請輸入終止的正整數：10\n",
            "21\n"
          ],
          "name": "stdout"
        }
      ]
    },
    {
      "cell_type": "markdown",
      "metadata": {
        "id": "-NaCiYkxXEmL",
        "colab_type": "text"
      },
      "source": [
        "作業：Fizz-Buzz with while\n",
        "從 1 印到 100\n",
        "\n",
        "如果是 3 的倍數印出 \"Fizz\"\n",
        "\n",
        "如果是 5 的倍數印出 \"Buzz\"\n",
        "\n",
        "如果是 15 的倍數印出 \"Fizz Buzz\"\n",
        "\n",
        "其他情況印出該正整數即可"
      ]
    },
    {
      "cell_type": "code",
      "metadata": {
        "id": "UzL0V5XeWoSj",
        "colab_type": "code",
        "outputId": "f5a833be-0176-4754-825b-6bc387134b36",
        "colab": {
          "base_uri": "https://localhost:8080/",
          "height": 1000
        }
      },
      "source": [
        "i = 1 \n",
        "while i <= 100:\n",
        "    if i % 15 == 0:\n",
        "        print(\"Fizz Buzz\") \n",
        "    elif i % 5 == 0:\n",
        "        print(\"Fizz\") \n",
        "    elif i % 3 == 0:\n",
        "        print(\"Buzz\")\n",
        "    else:\n",
        "        print(i)\n",
        "    i += 1"
      ],
      "execution_count": 0,
      "outputs": [
        {
          "output_type": "stream",
          "text": [
            "1\n",
            "2\n",
            "Buzz\n",
            "4\n",
            "Fizz\n",
            "Buzz\n",
            "7\n",
            "8\n",
            "Buzz\n",
            "Fizz\n",
            "11\n",
            "Buzz\n",
            "13\n",
            "14\n",
            "Fizz Buzz\n",
            "16\n",
            "17\n",
            "Buzz\n",
            "19\n",
            "Fizz\n",
            "Buzz\n",
            "22\n",
            "23\n",
            "Buzz\n",
            "Fizz\n",
            "26\n",
            "Buzz\n",
            "28\n",
            "29\n",
            "Fizz Buzz\n",
            "31\n",
            "32\n",
            "Buzz\n",
            "34\n",
            "Fizz\n",
            "Buzz\n",
            "37\n",
            "38\n",
            "Buzz\n",
            "Fizz\n",
            "41\n",
            "Buzz\n",
            "43\n",
            "44\n",
            "Fizz Buzz\n",
            "46\n",
            "47\n",
            "Buzz\n",
            "49\n",
            "Fizz\n",
            "Buzz\n",
            "52\n",
            "53\n",
            "Buzz\n",
            "Fizz\n",
            "56\n",
            "Buzz\n",
            "58\n",
            "59\n",
            "Fizz Buzz\n",
            "61\n",
            "62\n",
            "Buzz\n",
            "64\n",
            "Fizz\n",
            "Buzz\n",
            "67\n",
            "68\n",
            "Buzz\n",
            "Fizz\n",
            "71\n",
            "Buzz\n",
            "73\n",
            "74\n",
            "Fizz Buzz\n",
            "76\n",
            "77\n",
            "Buzz\n",
            "79\n",
            "Fizz\n",
            "Buzz\n",
            "82\n",
            "83\n",
            "Buzz\n",
            "Fizz\n",
            "86\n",
            "Buzz\n",
            "88\n",
            "89\n",
            "Fizz Buzz\n",
            "91\n",
            "92\n",
            "Buzz\n",
            "94\n",
            "Fizz\n",
            "Buzz\n",
            "97\n",
            "98\n",
            "Buzz\n",
            "Fizz\n"
          ],
          "name": "stdout"
        }
      ]
    },
    {
      "cell_type": "code",
      "metadata": {
        "id": "WkbbbvBJZN2L",
        "colab_type": "code",
        "colab": {}
      },
      "source": [
        ""
      ],
      "execution_count": 0,
      "outputs": []
    }
  ]
}